{
 "cells": [
  {
   "cell_type": "code",
   "execution_count": null,
   "metadata": {},
   "outputs": [
    {
     "name": "stdout",
     "output_type": "stream",
     "text": [
      "Requirement already satisfied: networkx in c:\\users\\ugo-c\\anaconda3\\envs\\node2vec\\lib\\site-packages (2.6.3)\n",
      "Requirement already satisfied: node2vec in c:\\users\\ugo-c\\anaconda3\\envs\\node2vec\\lib\\site-packages (0.4.4)\n",
      "Requirement already satisfied: tqdm<5.0.0,>=4.55.1 in c:\\users\\ugo-c\\anaconda3\\envs\\node2vec\\lib\\site-packages (from node2vec) (4.62.3)\n",
      "Requirement already satisfied: networkx<3.0,>=2.5 in c:\\users\\ugo-c\\anaconda3\\envs\\node2vec\\lib\\site-packages (from node2vec) (2.6.3)\n",
      "Requirement already satisfied: gensim<5.0.0,>=4.1.2 in c:\\users\\ugo-c\\anaconda3\\envs\\node2vec\\lib\\site-packages (from node2vec) (4.1.2)\n",
      "Requirement already satisfied: numpy<2.0.0,>=1.19.5 in c:\\users\\ugo-c\\anaconda3\\envs\\node2vec\\lib\\site-packages (from node2vec) (1.22.2)\n",
      "Requirement already satisfied: joblib<2.0.0,>=1.1.0 in c:\\users\\ugo-c\\anaconda3\\envs\\node2vec\\lib\\site-packages (from node2vec) (1.1.0)\n",
      "Requirement already satisfied: colorama; platform_system == \"Windows\" in c:\\users\\ugo-c\\anaconda3\\envs\\node2vec\\lib\\site-packages (from tqdm<5.0.0,>=4.55.1->node2vec) (0.4.4)\n",
      "Requirement already satisfied: Cython==0.29.23 in c:\\users\\ugo-c\\anaconda3\\envs\\node2vec\\lib\\site-packages (from gensim<5.0.0,>=4.1.2->node2vec) (0.29.23)\n",
      "Requirement already satisfied: scipy>=0.18.1 in c:\\users\\ugo-c\\anaconda3\\envs\\node2vec\\lib\\site-packages (from gensim<5.0.0,>=4.1.2->node2vec) (1.8.0)\n",
      "Requirement already satisfied: smart-open>=1.8.1 in c:\\users\\ugo-c\\anaconda3\\envs\\node2vec\\lib\\site-packages (from gensim<5.0.0,>=4.1.2->node2vec) (5.2.1)\n"
     ]
    }
   ],
   "source": [
    "!pip install networkx\n",
    "!pip install node2vec\n",
    "!conda install -c conda-forge ipywidgets\n",
    "!jupyter nbextension enable --py widgetsnbextension\n",
    "!pip install notebook --upgrade"
   ]
  },
  {
   "cell_type": "code",
   "execution_count": 6,
   "metadata": {
    "executionInfo": {
     "elapsed": 3,
     "status": "ok",
     "timestamp": 1644961510173,
     "user": {
      "displayName": "UGO LOMOIO",
      "photoUrl": "https://lh3.googleusercontent.com/a/default-user=s64",
      "userId": "13693923129053979509"
     },
     "user_tz": -60
    },
    "id": "54_IO--vCro-"
   },
   "outputs": [],
   "source": [
    "import networkx as nx\n",
    "from node2vec import Node2Vec"
   ]
  },
  {
   "cell_type": "code",
   "execution_count": 7,
   "metadata": {
    "colab": {
     "base_uri": "https://localhost:8080/"
    },
    "executionInfo": {
     "elapsed": 3421,
     "status": "ok",
     "timestamp": 1644961513592,
     "user": {
      "displayName": "UGO LOMOIO",
      "photoUrl": "https://lh3.googleusercontent.com/a/default-user=s64",
      "userId": "13693923129053979509"
     },
     "user_tz": -60
    },
    "id": "R_mS2pJN-kCI",
    "outputId": "505f2cc4-f735-4c3f-c33e-fdba8d3a76e6"
   },
   "outputs": [
    {
     "name": "stdout",
     "output_type": "stream",
     "text": [
      "19081 715612\n"
     ]
    }
   ],
   "source": [
    "G = nx.read_edgelist(\"PP-Decagon_ppi.csv\", delimiter=\",\")\n",
    "n_shuffles = [5, 10, 15, 25, 50]\n",
    "Gs_shuffled = dict()\n",
    "print(len(G.nodes), len(G.edges))"
   ]
  },
  {
   "cell_type": "code",
   "execution_count": 9,
   "metadata": {
    "colab": {
     "base_uri": "https://localhost:8080/",
     "height": 101,
     "referenced_widgets": [
      "d3ddf20713544ee6a5cf20c3bedf7550",
      "3c9d35e3d84f48acaf35e93296472ad9",
      "94e43e21cf694873aacc5bd16fd4011c",
      "1cae2d1ed4da4062b65d41a082f581d9",
      "ab491883f5934563b196733002c6503b",
      "9d752c773728419281b506744ea5577f",
      "efdd47a61cee4b27b24b371d81e8ad5f",
      "94edc7e884b44306b08176854aaa6fa8",
      "caa8087fd83e4e5baa11868e552c4413",
      "114443602016481cb401bb26ebceee72",
      "6c60c1b52c6140d1a848f6d925bcbdbd"
     ]
    },
    "id": "DDOwhzI-B5j0",
    "outputId": "68ea3bb8-ba15-496e-ee88-bf91f1ee0ad9"
   },
   "outputs": [
    {
     "name": "stdout",
     "output_type": "stream",
     "text": [
      "19081 715612\n",
      "19081 715612\n",
      "19081 715612\n",
      "19081 715612\n",
      "19081 715612\n",
      "{'G_5': <networkx.classes.graph.Graph object at 0x0000016ED2FC9AC0>, 'G_10': <networkx.classes.graph.Graph object at 0x0000016EE42ED940>, 'G_15': <networkx.classes.graph.Graph object at 0x0000016CA722D8B0>, 'G_25': <networkx.classes.graph.Graph object at 0x0000016EE42EDD30>, 'G_50': <networkx.classes.graph.Graph object at 0x0000016EE42ED550>}\n"
     ]
    }
   ],
   "source": [
    "for n_shuffle in n_shuffles:\n",
    "    \n",
    "    Gs_shuffled[\"G_{}\".format(n_shuffle)] =  nx.read_edgelist(\"PP-Decagon_ppi_{}.csv\".format(n_shuffle), delimiter=' ')\n",
    "    print(len(Gs_shuffled[\"G_{}\".format(n_shuffle)].nodes()), len(Gs_shuffled[\"G_{}\".format(n_shuffle)].edges()))\n",
    "\n",
    "print(Gs_shuffled)"
   ]
  },
  {
   "cell_type": "code",
   "execution_count": 11,
   "metadata": {},
   "outputs": [
    {
     "name": "stdout",
     "output_type": "stream",
     "text": [
      "Enter Embedding dimensions: 128\n",
      "Enter the lenght of each random walk: 30\n",
      "Enter the number of walks per node: 30\n"
     ]
    },
    {
     "data": {
      "application/vnd.jupyter.widget-view+json": {
       "model_id": "497f4e0c0d464c2d9f1baaa309de4630",
       "version_major": 2,
       "version_minor": 0
      },
      "text/plain": [
       "Computing transition probabilities:   0%|          | 0/19081 [00:00<?, ?it/s]"
      ]
     },
     "metadata": {},
     "output_type": "display_data"
    },
    {
     "name": "stderr",
     "output_type": "stream",
     "text": [
      "Generating walks (CPU: 1): 100%|███████████████████████████████████████████████████████| 30/30 [07:09<00:00, 14.30s/it]\n"
     ]
    },
    {
     "data": {
      "application/vnd.jupyter.widget-view+json": {
       "model_id": "bc4741eeb6884dc3ab3ded3c4fe5f7f5",
       "version_major": 2,
       "version_minor": 0
      },
      "text/plain": [
       "Computing transition probabilities:   0%|          | 0/19081 [00:00<?, ?it/s]"
      ]
     },
     "metadata": {},
     "output_type": "display_data"
    },
    {
     "name": "stderr",
     "output_type": "stream",
     "text": [
      "Generating walks (CPU: 1): 100%|███████████████████████████████████████████████████████| 30/30 [07:13<00:00, 14.44s/it]\n"
     ]
    },
    {
     "data": {
      "application/vnd.jupyter.widget-view+json": {
       "model_id": "cdb1edab093b47b48480ce7f8c1efd92",
       "version_major": 2,
       "version_minor": 0
      },
      "text/plain": [
       "Computing transition probabilities:   0%|          | 0/19081 [00:00<?, ?it/s]"
      ]
     },
     "metadata": {},
     "output_type": "display_data"
    },
    {
     "name": "stderr",
     "output_type": "stream",
     "text": [
      "Generating walks (CPU: 1): 100%|███████████████████████████████████████████████████████| 30/30 [07:27<00:00, 14.91s/it]\n"
     ]
    },
    {
     "data": {
      "application/vnd.jupyter.widget-view+json": {
       "model_id": "27aa912998c44dddb1dcb6aaf616a0ac",
       "version_major": 2,
       "version_minor": 0
      },
      "text/plain": [
       "Computing transition probabilities:   0%|          | 0/19081 [00:00<?, ?it/s]"
      ]
     },
     "metadata": {},
     "output_type": "display_data"
    },
    {
     "ename": "KeyboardInterrupt",
     "evalue": "",
     "output_type": "error",
     "traceback": [
      "\u001b[1;31m---------------------------------------------------------------------------\u001b[0m",
      "\u001b[1;31mKeyboardInterrupt\u001b[0m                         Traceback (most recent call last)",
      "\u001b[1;32m<ipython-input-11-174b575313d7>\u001b[0m in \u001b[0;36m<module>\u001b[1;34m\u001b[0m\n\u001b[0;32m      5\u001b[0m \u001b[1;32mfor\u001b[0m \u001b[0mn_shuffle\u001b[0m \u001b[1;32min\u001b[0m \u001b[0mn_shuffles\u001b[0m\u001b[1;33m:\u001b[0m\u001b[1;33m\u001b[0m\u001b[1;33m\u001b[0m\u001b[0m\n\u001b[0;32m      6\u001b[0m \u001b[1;33m\u001b[0m\u001b[0m\n\u001b[1;32m----> 7\u001b[1;33m     \u001b[0mn2v\u001b[0m \u001b[1;33m=\u001b[0m \u001b[0mNode2Vec\u001b[0m\u001b[1;33m(\u001b[0m\u001b[0mGs_shuffled\u001b[0m\u001b[1;33m[\u001b[0m\u001b[1;34m\"G_{}\"\u001b[0m\u001b[1;33m.\u001b[0m\u001b[0mformat\u001b[0m\u001b[1;33m(\u001b[0m\u001b[0mn_shuffle\u001b[0m\u001b[1;33m)\u001b[0m\u001b[1;33m]\u001b[0m\u001b[1;33m,\u001b[0m \u001b[0mdimensions\u001b[0m\u001b[1;33m=\u001b[0m\u001b[0mdimensions\u001b[0m\u001b[1;33m,\u001b[0m \u001b[0mwalk_length\u001b[0m\u001b[1;33m=\u001b[0m\u001b[0mwalk_length\u001b[0m\u001b[1;33m,\u001b[0m \u001b[0mnum_walks\u001b[0m\u001b[1;33m=\u001b[0m\u001b[0mnum_walks\u001b[0m\u001b[1;33m,\u001b[0m \u001b[0mworkers\u001b[0m \u001b[1;33m=\u001b[0m \u001b[1;36m1\u001b[0m\u001b[1;33m)\u001b[0m\u001b[1;33m\u001b[0m\u001b[1;33m\u001b[0m\u001b[0m\n\u001b[0m\u001b[0;32m      8\u001b[0m     \u001b[0mmodel\u001b[0m \u001b[1;33m=\u001b[0m \u001b[0mn2v\u001b[0m\u001b[1;33m.\u001b[0m\u001b[0mfit\u001b[0m\u001b[1;33m(\u001b[0m\u001b[1;33m)\u001b[0m\u001b[1;33m\u001b[0m\u001b[1;33m\u001b[0m\u001b[0m\n\u001b[0;32m      9\u001b[0m     \u001b[0mmodel\u001b[0m\u001b[1;33m.\u001b[0m\u001b[0mwv\u001b[0m\u001b[1;33m.\u001b[0m\u001b[0msave_word2vec_format\u001b[0m\u001b[1;33m(\u001b[0m\u001b[1;34m\"G_{}_Node2VecEmbedding\"\u001b[0m\u001b[1;33m.\u001b[0m\u001b[0mformat\u001b[0m\u001b[1;33m(\u001b[0m\u001b[0mn_shuffle\u001b[0m\u001b[1;33m)\u001b[0m\u001b[1;33m)\u001b[0m\u001b[1;33m\u001b[0m\u001b[1;33m\u001b[0m\u001b[0m\n",
      "\u001b[1;32m~\\anaconda3\\envs\\node2vec\\lib\\site-packages\\node2vec\\node2vec.py\u001b[0m in \u001b[0;36m__init__\u001b[1;34m(self, graph, dimensions, walk_length, num_walks, p, q, weight_key, workers, sampling_strategy, quiet, temp_folder, seed)\u001b[0m\n\u001b[0;32m     71\u001b[0m             \u001b[0mnp\u001b[0m\u001b[1;33m.\u001b[0m\u001b[0mrandom\u001b[0m\u001b[1;33m.\u001b[0m\u001b[0mseed\u001b[0m\u001b[1;33m(\u001b[0m\u001b[0mseed\u001b[0m\u001b[1;33m)\u001b[0m\u001b[1;33m\u001b[0m\u001b[1;33m\u001b[0m\u001b[0m\n\u001b[0;32m     72\u001b[0m \u001b[1;33m\u001b[0m\u001b[0m\n\u001b[1;32m---> 73\u001b[1;33m         \u001b[0mself\u001b[0m\u001b[1;33m.\u001b[0m\u001b[0m_precompute_probabilities\u001b[0m\u001b[1;33m(\u001b[0m\u001b[1;33m)\u001b[0m\u001b[1;33m\u001b[0m\u001b[1;33m\u001b[0m\u001b[0m\n\u001b[0m\u001b[0;32m     74\u001b[0m         \u001b[0mself\u001b[0m\u001b[1;33m.\u001b[0m\u001b[0mwalks\u001b[0m \u001b[1;33m=\u001b[0m \u001b[0mself\u001b[0m\u001b[1;33m.\u001b[0m\u001b[0m_generate_walks\u001b[0m\u001b[1;33m(\u001b[0m\u001b[1;33m)\u001b[0m\u001b[1;33m\u001b[0m\u001b[1;33m\u001b[0m\u001b[0m\n\u001b[0;32m     75\u001b[0m \u001b[1;33m\u001b[0m\u001b[0m\n",
      "\u001b[1;32m~\\anaconda3\\envs\\node2vec\\lib\\site-packages\\node2vec\\node2vec.py\u001b[0m in \u001b[0;36m_precompute_probabilities\u001b[1;34m(self)\u001b[0m\n\u001b[0;32m    103\u001b[0m \u001b[1;33m\u001b[0m\u001b[0m\n\u001b[0;32m    104\u001b[0m                     p = self.sampling_strategy[current_node].get(self.P_KEY,\n\u001b[1;32m--> 105\u001b[1;33m                                                                  self.p) if current_node in self.sampling_strategy else self.p\n\u001b[0m\u001b[0;32m    106\u001b[0m                     q = self.sampling_strategy[current_node].get(self.Q_KEY,\n\u001b[0;32m    107\u001b[0m                                                                  self.q) if current_node in self.sampling_strategy else self.q\n",
      "\u001b[1;31mKeyboardInterrupt\u001b[0m: "
     ]
    }
   ],
   "source": [
    "dimensions = int(input(\"Enter Embedding dimensions: \"))\n",
    "walk_length = int(input(\"Enter the lenght of each random walk: \"))\n",
    "num_walks = int(input(\"Enter the number of walks per node: \"))\n",
    "\n",
    "for n_shuffle in n_shuffles:\n",
    "    \n",
    "    n2v = Node2Vec(Gs_shuffled[\"G_{}\".format(n_shuffle)], dimensions=dimensions, walk_length=walk_length, num_walks=num_walks, workers = 1)\n",
    "    model = n2v.fit()\n",
    "    model.wv.save_word2vec_format(\"G_{}_Node2VecEmbedding\".format(n_shuffle))"
   ]
  },
  {
   "cell_type": "code",
   "execution_count": 5,
   "metadata": {},
   "outputs": [
    {
     "name": "stdout",
     "output_type": "stream",
     "text": [
      "Enter Embedding dimensions: 128\n",
      "Enter the lenght of each random walk: 30\n",
      "Enter the number of walks per node: 30\n"
     ]
    },
    {
     "data": {
      "application/vnd.jupyter.widget-view+json": {
       "model_id": "560a449124304e728bea21c669d59366",
       "version_major": 2,
       "version_minor": 0
      },
      "text/plain": [
       "Computing transition probabilities:   0%|          | 0/19081 [00:00<?, ?it/s]"
      ]
     },
     "metadata": {},
     "output_type": "display_data"
    },
    {
     "name": "stderr",
     "output_type": "stream",
     "text": [
      "Generating walks (CPU: 1): 100%|███████████████████████████████████████| 30/30 [06:56<00:00, 13.89s/it]\n"
     ]
    },
    {
     "data": {
      "application/vnd.jupyter.widget-view+json": {
       "model_id": "442e4d5dcfa74598ab454ce3e7c5f57f",
       "version_major": 2,
       "version_minor": 0
      },
      "text/plain": [
       "Computing transition probabilities:   0%|          | 0/19081 [00:00<?, ?it/s]"
      ]
     },
     "metadata": {},
     "output_type": "display_data"
    },
    {
     "name": "stderr",
     "output_type": "stream",
     "text": [
      "Generating walks (CPU: 1): 100%|███████████████████████████████████████| 30/30 [06:51<00:00, 13.73s/it]\n"
     ]
    }
   ],
   "source": []
  },
  {
   "cell_type": "code",
   "execution_count": null,
   "metadata": {},
   "outputs": [],
   "source": []
  }
 ],
 "metadata": {
  "colab": {
   "authorship_tag": "ABX9TyOow40etmZVYFWbE3WfwlQU",
   "collapsed_sections": [],
   "name": "Node2VecEmbedding.ipynb",
   "provenance": []
  },
  "kernelspec": {
   "display_name": "node2vec",
   "language": "python",
   "name": "node2vec"
  },
  "language_info": {
   "codemirror_mode": {
    "name": "ipython",
    "version": 3
   },
   "file_extension": ".py",
   "mimetype": "text/x-python",
   "name": "python",
   "nbconvert_exporter": "python",
   "pygments_lexer": "ipython3",
   "version": "3.8.5"
  },
  "widgets": {
   "application/vnd.jupyter.widget-state+json": {
    "114443602016481cb401bb26ebceee72": {
     "model_module": "@jupyter-widgets/controls",
     "model_module_version": "1.5.0",
     "model_name": "DescriptionStyleModel",
     "state": {
      "_model_module": "@jupyter-widgets/controls",
      "_model_module_version": "1.5.0",
      "_model_name": "DescriptionStyleModel",
      "_view_count": null,
      "_view_module": "@jupyter-widgets/base",
      "_view_module_version": "1.2.0",
      "_view_name": "StyleView",
      "description_width": ""
     }
    },
    "1cae2d1ed4da4062b65d41a082f581d9": {
     "model_module": "@jupyter-widgets/controls",
     "model_module_version": "1.5.0",
     "model_name": "FloatProgressModel",
     "state": {
      "_dom_classes": [],
      "_model_module": "@jupyter-widgets/controls",
      "_model_module_version": "1.5.0",
      "_model_name": "FloatProgressModel",
      "_view_count": null,
      "_view_module": "@jupyter-widgets/controls",
      "_view_module_version": "1.5.0",
      "_view_name": "ProgressView",
      "bar_style": "",
      "description": "",
      "description_tooltip": null,
      "layout": "IPY_MODEL_caa8087fd83e4e5baa11868e552c4413",
      "max": 19081,
      "min": 0,
      "orientation": "horizontal",
      "style": "IPY_MODEL_94edc7e884b44306b08176854aaa6fa8",
      "value": 50
     }
    },
    "3c9d35e3d84f48acaf35e93296472ad9": {
     "model_module": "@jupyter-widgets/base",
     "model_module_version": "1.2.0",
     "model_name": "LayoutModel",
     "state": {
      "_model_module": "@jupyter-widgets/base",
      "_model_module_version": "1.2.0",
      "_model_name": "LayoutModel",
      "_view_count": null,
      "_view_module": "@jupyter-widgets/base",
      "_view_module_version": "1.2.0",
      "_view_name": "LayoutView",
      "align_content": null,
      "align_items": null,
      "align_self": null,
      "border": null,
      "bottom": null,
      "display": null,
      "flex": null,
      "flex_flow": null,
      "grid_area": null,
      "grid_auto_columns": null,
      "grid_auto_flow": null,
      "grid_auto_rows": null,
      "grid_column": null,
      "grid_gap": null,
      "grid_row": null,
      "grid_template_areas": null,
      "grid_template_columns": null,
      "grid_template_rows": null,
      "height": null,
      "justify_content": null,
      "justify_items": null,
      "left": null,
      "margin": null,
      "max_height": null,
      "max_width": null,
      "min_height": null,
      "min_width": null,
      "object_fit": null,
      "object_position": null,
      "order": null,
      "overflow": null,
      "overflow_x": null,
      "overflow_y": null,
      "padding": null,
      "right": null,
      "top": null,
      "visibility": null,
      "width": null
     }
    },
    "6c60c1b52c6140d1a848f6d925bcbdbd": {
     "model_module": "@jupyter-widgets/base",
     "model_module_version": "1.2.0",
     "model_name": "LayoutModel",
     "state": {
      "_model_module": "@jupyter-widgets/base",
      "_model_module_version": "1.2.0",
      "_model_name": "LayoutModel",
      "_view_count": null,
      "_view_module": "@jupyter-widgets/base",
      "_view_module_version": "1.2.0",
      "_view_name": "LayoutView",
      "align_content": null,
      "align_items": null,
      "align_self": null,
      "border": null,
      "bottom": null,
      "display": null,
      "flex": null,
      "flex_flow": null,
      "grid_area": null,
      "grid_auto_columns": null,
      "grid_auto_flow": null,
      "grid_auto_rows": null,
      "grid_column": null,
      "grid_gap": null,
      "grid_row": null,
      "grid_template_areas": null,
      "grid_template_columns": null,
      "grid_template_rows": null,
      "height": null,
      "justify_content": null,
      "justify_items": null,
      "left": null,
      "margin": null,
      "max_height": null,
      "max_width": null,
      "min_height": null,
      "min_width": null,
      "object_fit": null,
      "object_position": null,
      "order": null,
      "overflow": null,
      "overflow_x": null,
      "overflow_y": null,
      "padding": null,
      "right": null,
      "top": null,
      "visibility": null,
      "width": null
     }
    },
    "94e43e21cf694873aacc5bd16fd4011c": {
     "model_module": "@jupyter-widgets/controls",
     "model_module_version": "1.5.0",
     "model_name": "HTMLModel",
     "state": {
      "_dom_classes": [],
      "_model_module": "@jupyter-widgets/controls",
      "_model_module_version": "1.5.0",
      "_model_name": "HTMLModel",
      "_view_count": null,
      "_view_module": "@jupyter-widgets/controls",
      "_view_module_version": "1.5.0",
      "_view_name": "HTMLView",
      "description": "",
      "description_tooltip": null,
      "layout": "IPY_MODEL_efdd47a61cee4b27b24b371d81e8ad5f",
      "placeholder": "​",
      "style": "IPY_MODEL_9d752c773728419281b506744ea5577f",
      "value": "Computing transition probabilities:   0%"
     }
    },
    "94edc7e884b44306b08176854aaa6fa8": {
     "model_module": "@jupyter-widgets/controls",
     "model_module_version": "1.5.0",
     "model_name": "ProgressStyleModel",
     "state": {
      "_model_module": "@jupyter-widgets/controls",
      "_model_module_version": "1.5.0",
      "_model_name": "ProgressStyleModel",
      "_view_count": null,
      "_view_module": "@jupyter-widgets/base",
      "_view_module_version": "1.2.0",
      "_view_name": "StyleView",
      "bar_color": null,
      "description_width": ""
     }
    },
    "9d752c773728419281b506744ea5577f": {
     "model_module": "@jupyter-widgets/controls",
     "model_module_version": "1.5.0",
     "model_name": "DescriptionStyleModel",
     "state": {
      "_model_module": "@jupyter-widgets/controls",
      "_model_module_version": "1.5.0",
      "_model_name": "DescriptionStyleModel",
      "_view_count": null,
      "_view_module": "@jupyter-widgets/base",
      "_view_module_version": "1.2.0",
      "_view_name": "StyleView",
      "description_width": ""
     }
    },
    "ab491883f5934563b196733002c6503b": {
     "model_module": "@jupyter-widgets/controls",
     "model_module_version": "1.5.0",
     "model_name": "HTMLModel",
     "state": {
      "_dom_classes": [],
      "_model_module": "@jupyter-widgets/controls",
      "_model_module_version": "1.5.0",
      "_model_name": "HTMLModel",
      "_view_count": null,
      "_view_module": "@jupyter-widgets/controls",
      "_view_module_version": "1.5.0",
      "_view_name": "HTMLView",
      "description": "",
      "description_tooltip": null,
      "layout": "IPY_MODEL_6c60c1b52c6140d1a848f6d925bcbdbd",
      "placeholder": "​",
      "style": "IPY_MODEL_114443602016481cb401bb26ebceee72",
      "value": " 49/19081 [00:13&lt;3:53:55,  1.36it/s]"
     }
    },
    "caa8087fd83e4e5baa11868e552c4413": {
     "model_module": "@jupyter-widgets/base",
     "model_module_version": "1.2.0",
     "model_name": "LayoutModel",
     "state": {
      "_model_module": "@jupyter-widgets/base",
      "_model_module_version": "1.2.0",
      "_model_name": "LayoutModel",
      "_view_count": null,
      "_view_module": "@jupyter-widgets/base",
      "_view_module_version": "1.2.0",
      "_view_name": "LayoutView",
      "align_content": null,
      "align_items": null,
      "align_self": null,
      "border": null,
      "bottom": null,
      "display": null,
      "flex": null,
      "flex_flow": null,
      "grid_area": null,
      "grid_auto_columns": null,
      "grid_auto_flow": null,
      "grid_auto_rows": null,
      "grid_column": null,
      "grid_gap": null,
      "grid_row": null,
      "grid_template_areas": null,
      "grid_template_columns": null,
      "grid_template_rows": null,
      "height": null,
      "justify_content": null,
      "justify_items": null,
      "left": null,
      "margin": null,
      "max_height": null,
      "max_width": null,
      "min_height": null,
      "min_width": null,
      "object_fit": null,
      "object_position": null,
      "order": null,
      "overflow": null,
      "overflow_x": null,
      "overflow_y": null,
      "padding": null,
      "right": null,
      "top": null,
      "visibility": null,
      "width": null
     }
    },
    "d3ddf20713544ee6a5cf20c3bedf7550": {
     "model_module": "@jupyter-widgets/controls",
     "model_module_version": "1.5.0",
     "model_name": "HBoxModel",
     "state": {
      "_dom_classes": [],
      "_model_module": "@jupyter-widgets/controls",
      "_model_module_version": "1.5.0",
      "_model_name": "HBoxModel",
      "_view_count": null,
      "_view_module": "@jupyter-widgets/controls",
      "_view_module_version": "1.5.0",
      "_view_name": "HBoxView",
      "box_style": "",
      "children": [
       "IPY_MODEL_94e43e21cf694873aacc5bd16fd4011c",
       "IPY_MODEL_1cae2d1ed4da4062b65d41a082f581d9",
       "IPY_MODEL_ab491883f5934563b196733002c6503b"
      ],
      "layout": "IPY_MODEL_3c9d35e3d84f48acaf35e93296472ad9"
     }
    },
    "efdd47a61cee4b27b24b371d81e8ad5f": {
     "model_module": "@jupyter-widgets/base",
     "model_module_version": "1.2.0",
     "model_name": "LayoutModel",
     "state": {
      "_model_module": "@jupyter-widgets/base",
      "_model_module_version": "1.2.0",
      "_model_name": "LayoutModel",
      "_view_count": null,
      "_view_module": "@jupyter-widgets/base",
      "_view_module_version": "1.2.0",
      "_view_name": "LayoutView",
      "align_content": null,
      "align_items": null,
      "align_self": null,
      "border": null,
      "bottom": null,
      "display": null,
      "flex": null,
      "flex_flow": null,
      "grid_area": null,
      "grid_auto_columns": null,
      "grid_auto_flow": null,
      "grid_auto_rows": null,
      "grid_column": null,
      "grid_gap": null,
      "grid_row": null,
      "grid_template_areas": null,
      "grid_template_columns": null,
      "grid_template_rows": null,
      "height": null,
      "justify_content": null,
      "justify_items": null,
      "left": null,
      "margin": null,
      "max_height": null,
      "max_width": null,
      "min_height": null,
      "min_width": null,
      "object_fit": null,
      "object_position": null,
      "order": null,
      "overflow": null,
      "overflow_x": null,
      "overflow_y": null,
      "padding": null,
      "right": null,
      "top": null,
      "visibility": null,
      "width": null
     }
    }
   }
  }
 },
 "nbformat": 4,
 "nbformat_minor": 1
}
